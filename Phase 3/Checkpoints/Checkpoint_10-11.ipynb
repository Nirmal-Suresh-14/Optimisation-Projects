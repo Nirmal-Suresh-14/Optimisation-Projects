{
 "cells": [
  {
   "cell_type": "markdown",
   "metadata": {},
   "source": [
    "# ME 609 : Optimisational Methods in Engineering\n",
    "##     Project - Phase 3\n",
    "##     Constrained Optimisation Problem\n",
    "## MultiVariable : Conjugate Direction Method\n",
    "## Unidirectional Search : Bounding Phase, Newton Raphson\n",
    "##   \n",
    "###   Nirmal S.   [234103107]\n",
    "###   Rohit Kumar Saragadam [234103109]"
   ]
  },
  {
   "cell_type": "code",
   "execution_count": 1,
   "metadata": {},
   "outputs": [],
   "source": [
    "import numpy as np\n",
    "import pandas as pd\n",
    "\n",
    "import math\n",
    "\n",
    "import matplotlib.pyplot as plt"
   ]
  },
  {
   "cell_type": "markdown",
   "metadata": {},
   "source": [
    "### Function Value"
   ]
  },
  {
   "cell_type": "code",
   "execution_count": 2,
   "metadata": {},
   "outputs": [],
   "source": [
    "def bracket_operator(f):\n",
    "    return(min(0, f))"
   ]
  },
  {
   "cell_type": "code",
   "execution_count": 28,
   "metadata": {},
   "outputs": [],
   "source": [
    "def objectiveFunction(df_x, df_s, alpha, N, R):\n",
    "    \n",
    "    global f_count     # Keeping Track of number of times the function is read\n",
    "    f_count += 1\n",
    "    \n",
    "    \n",
    "#     ########## Problem 1 ##########\n",
    "#     x1 = df_x[1] + alpha*df_s[1]\n",
    "#     x2 = df_x[2] + alpha*df_s[2]\n",
    "#     value = 0\n",
    "#     fx = (x1 - 10)**3 + (x2 - 20)**3\n",
    "    \n",
    "#     g1x = (x1 - 5)**2 + (x2 - 5)**2 - 100\n",
    "#     g2x = -((x1 - 6)**2 + (x2 - 5)**2 - 82.81)\n",
    "    \n",
    "#     value = (fx + R*(bracket_operator(g1x))**2 \n",
    "#                 + R*(bracket_operator(g2x))**2)\n",
    "    \n",
    "#    ########## Problem 2 ##########\n",
    "#     x1 = df_x[1] + alpha*df_s[1]\n",
    "#     x2 = df_x[2] + alpha*df_s[2]\n",
    "#     value = 0\n",
    "#     fx = -((math.sin(2*math.pi*x1)**3*math.sin(2*math.pi*x2))\n",
    "#           /((x1)**3*(x1 + x2)))\n",
    "\n",
    "#     g1x = x1**2 - x2 + 1\n",
    "#     g2x = 1 - x1 + (x2 - 4)**2\n",
    "    \n",
    "#     value = (fx + R*(bracket_operator(g1x))**2 \n",
    "#                 + R*(bracket_operator(g2x))**2)\n",
    "    \n",
    "#    ########## Problem 3 ##########\n",
    "#     x1 = df_x[1] + alpha*df_s[1]\n",
    "#     x2 = df_x[2] + alpha*df_s[2]\n",
    "#     x3 = df_x[3] + alpha*df_s[3]\n",
    "#     x4 = df_x[4] + alpha*df_s[4]\n",
    "#     x5 = df_x[5] + alpha*df_s[5]\n",
    "#     x6 = df_x[6] + alpha*df_s[6]\n",
    "#     x7 = df_x[7] + alpha*df_s[7]\n",
    "#     x8 = df_x[8] + alpha*df_s[8]\n",
    "\n",
    "#     value = 0\n",
    "#     fx = x1 + x2 + x3\n",
    "    \n",
    "#     g1x = -1 + 0.0025*(x4 + x6)\n",
    "#     g2x = -1 + 0.0025*(-x4 + x5 + x7)\n",
    "#     g3x = -1 + 0.01*(-x6 + x8)\n",
    "#     g4x = 100*x1 - x1*x6 + 833.33252*x4 - 83333.333\n",
    "#     g5x = x2*x4 - x2*x7 - 1250*x4 + 1250*x5\n",
    "#     g6x = x3*x5 - x3*x8 - 2500*x5 + 1250000\n",
    "    \n",
    "#     value = (fx + R*(bracket_operator(g1x))**2 \n",
    "#                 + R*(bracket_operator(g2x))**2\n",
    "#                 + R*(bracket_operator(g3x))**2\n",
    "#                 + R*(bracket_operator(g4x))**2\n",
    "#                 + R*(bracket_operator(g5x))**2\n",
    "#                 + R*(bracket_operator(g6x))**2)\n",
    "\n",
    "\n",
    "    ########## Himmelblau Function ##########\n",
    "    x1 = df_x[1] + alpha*df_s[1]\n",
    "    x2 = df_x[2] + alpha*df_s[2]\n",
    "    value = 0\n",
    "    \n",
    "    fx = (x1**2 + x2 - 11)**2 + (x1 + x2**2 - 7)**2\n",
    "    g1x = (x1 - 5)**2 + (x2)**2 - 26\n",
    "    \n",
    "    value = fx + R*(bracket_operator(g1x))**2\n",
    "    \n",
    "\n",
    "    return value"
   ]
  },
  {
   "cell_type": "markdown",
   "metadata": {},
   "source": [
    "### Unidirectional Search Algorithm Function"
   ]
  },
  {
   "cell_type": "code",
   "execution_count": 22,
   "metadata": {},
   "outputs": [],
   "source": [
    "def uniDirectionalSearch(a, b, df_x, df_s):\n",
    "    \n",
    "    ########### INPUTS TO BOUNDING PHASE AND NEWTON RAPHSON ##########\n",
    "    alpha = a\n",
    "    delta = 1e-3\n",
    "    \n",
    "    h = 1e-4\n",
    "    epsilon = 1e-5\n",
    "    \n",
    "    ########### BOUNDING PHASE METHOD ##########\n",
    "    \n",
    "    #### STEP 1 ####\n",
    "    k = 0\n",
    "    \n",
    "    #### STEP 2 ####\n",
    "    f_x = objectiveFunction(df_x, df_s, alpha, N, R)\n",
    "    f_x_plus_delta  = objectiveFunction(df_x, df_s, alpha+delta, N, R)\n",
    "    f_x_minus_delta = objectiveFunction(df_x, df_s, alpha-delta, N, R)\n",
    "    if (f_x_minus_delta < f_x and f_x < f_x_plus_delta):\n",
    "        delta = -delta\n",
    "    alpha_prev = alpha\n",
    "\n",
    "    while True:\n",
    "        \n",
    "        #### STEP 3 ####\n",
    "        alpha_new = alpha + (2**k)*delta\n",
    "        f_x_new = objectiveFunction(df_x, df_s, alpha_new, N, R)\n",
    "        \n",
    "        # if new guess goes beyond 'b'\n",
    "        if alpha_new > b:    \n",
    "            alpha_new = b\n",
    "            f_x_new = objectiveFunction(df_x, df_s, alpha_new, N, R)\n",
    "            if f_x_new >= f_x:\n",
    "                a1 = alpha_prev \n",
    "                b1 = alpha_new\n",
    "                break\n",
    "            else:\n",
    "                a1 = alpha \n",
    "                b1 = alpha_new\n",
    "                break\n",
    "                \n",
    "        # if new guess goes below 'a'\n",
    "        if alpha_new < a:    \n",
    "            alpha_new = a\n",
    "            f_x_new = objectiveFunction(df_x, df_s, alpha_new, N, R)\n",
    "            if f_x_new >= f_x:\n",
    "                b1 = alpha_prev \n",
    "                a1 = alpha_new\n",
    "                break\n",
    "            else:\n",
    "                b1 = alpha \n",
    "                a1 = alpha_new\n",
    "                break\n",
    "        \n",
    "        #### STEP 4 ####\n",
    "        if f_x_new >= f_x:\n",
    "            if delta < 0:\n",
    "                b1 = alpha_prev \n",
    "                a1 = alpha_new\n",
    "            else:\n",
    "                a1 = alpha_prev \n",
    "                b1 = alpha_new\n",
    "            break\n",
    "\n",
    "        k += 1\n",
    "        alpha_prev = alpha\n",
    "        alpha = alpha_new\n",
    "        f_x = f_x_new\n",
    "    \n",
    "    \n",
    "    \n",
    "    ########### NEWTON RAPHSON METHOD ##########\n",
    "    \n",
    "    #### STEP 1 ####\n",
    "    k = 1\n",
    "    alpha = b1\n",
    "    f_d1 = ((objectiveFunction(df_x, df_s, alpha + h, N, R) \n",
    "             - objectiveFunction(df_x, df_s, alpha - h, N, R))\n",
    "             /(2*h))\n",
    "    \n",
    "    while True:\n",
    "        #### STEP 2 ####\n",
    "        f_d2 = ((objectiveFunction(df_x, df_s, alpha + h, N, R)\n",
    "                 - 2*objectiveFunction(df_x, df_s, alpha, N, R)\n",
    "                 + objectiveFunction(df_x, df_s, alpha - h, N, R))\n",
    "                /h**2)\n",
    "        \n",
    "        #### STEP 3 ####\n",
    "        alpha_new = alpha - f_d1/f_d2\n",
    "        f_new_d1 = ((objectiveFunction(df_x, df_s, alpha_new + h, N, R) \n",
    "                     - objectiveFunction(df_x, df_s, alpha_new - h, N, R))\n",
    "                     /(2*h))\n",
    "        \n",
    "        #### STEP 4 ####\n",
    "        \n",
    "        if(alpha_new<a1):\n",
    "            alpha_new = a1\n",
    "            return df_x + alpha_new*df_s, [alpha_new]\n",
    "            break\n",
    "        if(alpha_new>b1):\n",
    "            alpha_new = b1\n",
    "            return df_x + alpha_new*df_s, [alpha_new]\n",
    "            break\n",
    "        \n",
    "        if abs(f_new_d1) > epsilon:\n",
    "            alpha = alpha_new\n",
    "            f_d1 = f_new_d1\n",
    "            continue\n",
    "        \n",
    "        else:\n",
    "            return df_x + alpha_new*df_s, [alpha_new]"
   ]
  },
  {
   "cell_type": "markdown",
   "metadata": {},
   "source": [
    "### Finding Bounds of Alpha"
   ]
  },
  {
   "cell_type": "code",
   "execution_count": 23,
   "metadata": {},
   "outputs": [],
   "source": [
    "def findBound(bound, df_x, df_s):\n",
    "    min_max = pd.DataFrame(np.zeros((N,2)), index=range(1,N+1), columns=range(1,3))\n",
    "    min_max[1] = -1e6\n",
    "    min_max[2] = 1e6\n",
    "        \n",
    "    for bound_i in range(1, N+1):\n",
    "        if abs(df_s[bound_i]) < 1e-6:\n",
    "            continue\n",
    "        else:\n",
    "            min_max[1][bound_i] = (bound[bound_i-1][0] - df_x[bound_i])/df_s[bound_i]\n",
    "            min_max[2][bound_i] = (bound[bound_i-1][1] - df_x[bound_i])/df_s[bound_i]\n",
    "            \n",
    "            if min_max[1][bound_i] > min_max[2][bound_i]:  # Swapping the left and right limits based on ascending order\n",
    "                temp = min_max[1][bound_i]\n",
    "                min_max[1][bound_i] = min_max[2][bound_i]\n",
    "                min_max[2][bound_i] = temp\n",
    "            \n",
    "    return(max(min_max[1]), min(min_max[2]))"
   ]
  },
  {
   "cell_type": "markdown",
   "metadata": {},
   "source": [
    "### Powel Conjugate Method"
   ]
  },
  {
   "cell_type": "code",
   "execution_count": 38,
   "metadata": {},
   "outputs": [],
   "source": [
    "def conjugate_direction(df_x, R, N):\n",
    "    \n",
    "    df_x = df_x[[0]]\n",
    "    \n",
    "    # Calculation of 'n'th point\n",
    "    n = 1\n",
    "    \n",
    "    # Creating the initial set of conjugate directions (Identity matrix)\n",
    "    df_s = pd.DataFrame(np.identity(N), columns=range(1,N+1), index=range(1, N+1))\n",
    "\n",
    "    # Setting Value of Termination Checks\n",
    "    epsilon = 1e-3    # magnitude of 'd'\n",
    "    theta = 5    # angle in degrees\n",
    "\n",
    "    # DataFrame to set store alpha values of each direction\n",
    "    df_alpha = pd.DataFrame()\n",
    "\n",
    "    while True:\n",
    "\n",
    "        #### STEP 2 ####\n",
    "        # Running unidirectional searches for s1, s2, ..., sN\n",
    "        for i in range(1, N+1):\n",
    "            a1, b1 = findBound(bound, df_x[n-1], df_s[i])\n",
    "            df_x[n], df_alpha[n] = uniDirectionalSearch(a1, b1, df_x[n-1], df_s[i])\n",
    "            n += 1\n",
    "        #Running one more unidirectional search along s1\n",
    "        a1, b1 = findBound(bound, df_x[n-1], df_s[1])\n",
    "        df_x[n], df_alpha[n] = uniDirectionalSearch(a1, b1, df_x[n-1], df_s[1])\n",
    "\n",
    "        #### STEP 3 ####\n",
    "        # Finding New conjugate Direction and it's magnitude\n",
    "        d_new = df_x[n] - df_x[n-N]\n",
    "\n",
    "        # Magnitude\n",
    "        mod_d = 0\n",
    "        for i in range(1, N+1):\n",
    "            mod_d += d_new[i]**2\n",
    "        mod_d = math.sqrt(mod_d)\n",
    "\n",
    "        # Linear Dependency\n",
    "        cos_sum_temp = 90\n",
    "        for j in range(1, N+1):\n",
    "            cos_sum = 0\n",
    "            for i in range(1, N+1):\n",
    "                cos_sum += (d_new/mod_d)[i] * df_s[j][i]\n",
    "            cos_sum = 180/math.pi*math.acos(cos_sum)\n",
    "            if(cos_sum>90):\n",
    "                cos_sum = 180 - cos_sum\n",
    "            if cos_sum > cos_sum_temp:\n",
    "                cos_sum = cos_sum_temp\n",
    "            else:\n",
    "                cos_sum_temp = cos_sum\n",
    "\n",
    "        #### STEP 4 ####\n",
    "        # Checking for Termination    \n",
    "        if (mod_d > epsilon and cos_sum > theta):\n",
    "            # Updating the search directions\n",
    "            df_s.columns += 1\n",
    "            df_s[1] = d_new/mod_d\n",
    "            no_col = len(df_s.columns)\n",
    "            df_s = df_s[range(1, no_col+1)]\n",
    "        else:\n",
    "            break\n",
    "            \n",
    "    return(df_x)"
   ]
  },
  {
   "cell_type": "markdown",
   "metadata": {},
   "source": [
    "### Reading the initial point and the boundary from the input file"
   ]
  },
  {
   "cell_type": "code",
   "execution_count": 48,
   "metadata": {},
   "outputs": [
    {
     "name": "stdout",
     "output_type": "stream",
     "text": [
      "The Initial Guess is \n",
      " [0. 0.]\n",
      "\n",
      "The bounds are\n",
      "x1 E [0.0, 5.0]\n",
      "x2 E [0.0, 5.0]\n",
      "\n",
      "Number of Variables :  2\n"
     ]
    }
   ],
   "source": [
    "df_x = pd.DataFrame()     # To store values of each point\n",
    "\n",
    "with open(\"Input_File.txt\") as f:\n",
    "    \n",
    "    contents = f.read()\n",
    "    \n",
    "    x_start = contents.find(\"(\") + 1\n",
    "    x_end   = contents.find(\")\")\n",
    "    \n",
    "    bound_start = contents.find(\"[\") + 1\n",
    "    bound_end   = contents.find(\"]\")\n",
    "    \n",
    "    # Storing initial point in dataframe and resetting index\n",
    "    df_x[0] = np.array(contents[x_start:x_end].split(', '), dtype='float')\n",
    "    df_x.index += 1\n",
    "    \n",
    "    # Extracting the number of variables in the input file\n",
    "    N = len(df_x)\n",
    "    \n",
    "    # Reading the boundary of every variable\n",
    "    bounds = contents[bound_start:bound_end].split('; ')\n",
    "    bound = np.array(bounds[0].split(', '), dtype='float')\n",
    "    for i in range(N-1):\n",
    "        bound = np.vstack([bound, np.array(bounds[i+1].split(', '), dtype='float')])\n",
    "    \n",
    "    f.close()\n",
    "    \n",
    "    \n",
    "print('The Initial Guess is \\n', df_x[0].values)\n",
    "print('\\nThe bounds are')\n",
    "for i in range(N):\n",
    "    print('x%d E [%.1f, %.1f]' %(i+1, bound[i][0], bound[i][1]))\n",
    "\n",
    "print('\\nNumber of Variables : ', N)"
   ]
  },
  {
   "cell_type": "markdown",
   "metadata": {},
   "source": [
    "# Constrained Optimisation with Penalty Method"
   ]
  },
  {
   "cell_type": "code",
   "execution_count": 53,
   "metadata": {},
   "outputs": [],
   "source": [
    "R = 1"
   ]
  },
  {
   "cell_type": "code",
   "execution_count": 54,
   "metadata": {
    "scrolled": true
   },
   "outputs": [
    {
     "data": {
      "text/html": [
       "<div>\n",
       "<style scoped>\n",
       "    .dataframe tbody tr th:only-of-type {\n",
       "        vertical-align: middle;\n",
       "    }\n",
       "\n",
       "    .dataframe tbody tr th {\n",
       "        vertical-align: top;\n",
       "    }\n",
       "\n",
       "    .dataframe thead th {\n",
       "        text-align: right;\n",
       "    }\n",
       "</style>\n",
       "<table border=\"1\" class=\"dataframe\">\n",
       "  <thead>\n",
       "    <tr style=\"text-align: right;\">\n",
       "      <th></th>\n",
       "      <th>0</th>\n",
       "      <th>1</th>\n",
       "      <th>2</th>\n",
       "      <th>3</th>\n",
       "    </tr>\n",
       "  </thead>\n",
       "  <tbody>\n",
       "    <tr>\n",
       "      <th>1</th>\n",
       "      <td>0.0</td>\n",
       "      <td>0.0</td>\n",
       "      <td>0.000000</td>\n",
       "      <td>0.000000</td>\n",
       "    </tr>\n",
       "    <tr>\n",
       "      <th>2</th>\n",
       "      <td>0.0</td>\n",
       "      <td>0.0</td>\n",
       "      <td>2.897916</td>\n",
       "      <td>2.897916</td>\n",
       "    </tr>\n",
       "  </tbody>\n",
       "</table>\n",
       "</div>"
      ],
      "text/plain": [
       "     0    1         2         3\n",
       "1  0.0  0.0  0.000000  0.000000\n",
       "2  0.0  0.0  2.897916  2.897916"
      ]
     },
     "execution_count": 54,
     "metadata": {},
     "output_type": "execute_result"
    }
   ],
   "source": [
    "conjugate_direction(df_x, R, N)"
   ]
  },
  {
   "cell_type": "code",
   "execution_count": 56,
   "metadata": {},
   "outputs": [],
   "source": [
    "# df_x_RAW = df_x.copy()\n",
    "\n",
    "# df_x = df_x_RAW.copy()"
   ]
  },
  {
   "cell_type": "code",
   "execution_count": 58,
   "metadata": {},
   "outputs": [
    {
     "name": "stdout",
     "output_type": "stream",
     "text": [
      "0.0 5.0\n",
      "0.0 5.0\n",
      "0.0 5.0\n"
     ]
    }
   ],
   "source": [
    "# Conjugate Direction Method  222  , TO BE DELETED ###\n",
    "\n",
    "df_x = df_x_RAW.copy()\n",
    "df_x = df_x[[0]]\n",
    "\n",
    "# Calculation of 'n'th point\n",
    "n = 1\n",
    "\n",
    "# Creating the initial set of conjugate directions (Identity matrix)\n",
    "df_s = pd.DataFrame(np.identity(N), columns=range(1,N+1), index=range(1, N+1))\n",
    "\n",
    "# Setting Value of Termination Checks\n",
    "epsilon = 1e-6    # magnitude of 'd'\n",
    "theta = 5    # angle in degrees\n",
    "\n",
    "# DataFrame to set store alpha values of each direction\n",
    "df_alpha = pd.DataFrame()\n",
    "\n",
    "### WHILE LOOP STARTS #### \n",
    "\n",
    "#### STEP 2 ####\n",
    "# Running unidirectional searches for s1, s2, ..., sN\n",
    "for i in range(1, N+1):\n",
    "    a1, b1 = findBound(bound, df_x[n-1], df_s[i])\n",
    "    print(a1, b1)\n",
    "    df_x[n], df_alpha[n] = uniDirectionalSearch(a1, b1, df_x[n-1], df_s[i])\n",
    "    n += 1\n",
    "#Running one more unidirectional search along s1\n",
    "a1, b1 = findBound(bound, df_x[n-1], df_s[1])\n",
    "print(a1, b1)\n",
    "df_x[n], df_alpha[n] = uniDirectionalSearch(a1, b1, df_x[n-1], df_s[1])\n",
    "\n",
    "#### STEP 3 ####\n",
    "# Finding New conjugate Direction and it's magnitude\n",
    "d_new = df_x[n] - df_x[n-N]\n",
    "\n",
    "# Magnitude\n",
    "mod_d = 0\n",
    "for i in range(1, N+1):\n",
    "    mod_d += d_new[i]**2\n",
    "mod_d = math.sqrt(mod_d)\n",
    "\n",
    "# Linear Dependency\n",
    "cos_sum_temp = 90\n",
    "\n",
    "for j in df_s.columns:\n",
    "    cos_sum = 0\n",
    "    for i in range(1, N+1):\n",
    "        cos_sum += (d_new/mod_d)[i] * df_s[j][i]\n",
    "    cos_sum = 180/math.pi*math.acos(cos_sum)\n",
    "    if(cos_sum>90):\n",
    "        cos_sum = 180 - cos_sum\n",
    "    if cos_sum > cos_sum_temp:\n",
    "        cos_sum = cos_sum_temp\n",
    "    else:\n",
    "        cos_sum_temp = cos_sum\n",
    "\n",
    "n += 1\n",
    "\n",
    "#### STEP 4 ####\n",
    "# Checking for Termination    \n",
    "if (mod_d > epsilon and cos_sum > theta):\n",
    "    # Updating the search directions\n",
    "    df_s.columns += 1\n",
    "    df_s[1] = d_new/mod_d\n",
    "    no_col = len(df_s.columns)\n",
    "    df_s = df_s[range(1, no_col+1)]\n",
    "# else:\n",
    "#     break\n",
    "\n",
    "# return(df_x)"
   ]
  },
  {
   "cell_type": "code",
   "execution_count": 59,
   "metadata": {},
   "outputs": [
    {
     "data": {
      "text/html": [
       "<div>\n",
       "<style scoped>\n",
       "    .dataframe tbody tr th:only-of-type {\n",
       "        vertical-align: middle;\n",
       "    }\n",
       "\n",
       "    .dataframe tbody tr th {\n",
       "        vertical-align: top;\n",
       "    }\n",
       "\n",
       "    .dataframe thead th {\n",
       "        text-align: right;\n",
       "    }\n",
       "</style>\n",
       "<table border=\"1\" class=\"dataframe\">\n",
       "  <thead>\n",
       "    <tr style=\"text-align: right;\">\n",
       "      <th></th>\n",
       "      <th>1</th>\n",
       "      <th>2</th>\n",
       "    </tr>\n",
       "  </thead>\n",
       "  <tbody>\n",
       "    <tr>\n",
       "      <th>1</th>\n",
       "      <td>1.0</td>\n",
       "      <td>0.0</td>\n",
       "    </tr>\n",
       "    <tr>\n",
       "      <th>2</th>\n",
       "      <td>0.0</td>\n",
       "      <td>1.0</td>\n",
       "    </tr>\n",
       "  </tbody>\n",
       "</table>\n",
       "</div>"
      ],
      "text/plain": [
       "     1    2\n",
       "1  1.0  0.0\n",
       "2  0.0  1.0"
      ]
     },
     "execution_count": 59,
     "metadata": {},
     "output_type": "execute_result"
    }
   ],
   "source": [
    "df_s"
   ]
  },
  {
   "cell_type": "code",
   "execution_count": 60,
   "metadata": {},
   "outputs": [
    {
     "data": {
      "text/plain": [
       "0.0"
      ]
     },
     "execution_count": 60,
     "metadata": {},
     "output_type": "execute_result"
    }
   ],
   "source": [
    "cos_sum"
   ]
  },
  {
   "cell_type": "code",
   "execution_count": 61,
   "metadata": {},
   "outputs": [
    {
     "data": {
      "text/html": [
       "<div>\n",
       "<style scoped>\n",
       "    .dataframe tbody tr th:only-of-type {\n",
       "        vertical-align: middle;\n",
       "    }\n",
       "\n",
       "    .dataframe tbody tr th {\n",
       "        vertical-align: top;\n",
       "    }\n",
       "\n",
       "    .dataframe thead th {\n",
       "        text-align: right;\n",
       "    }\n",
       "</style>\n",
       "<table border=\"1\" class=\"dataframe\">\n",
       "  <thead>\n",
       "    <tr style=\"text-align: right;\">\n",
       "      <th></th>\n",
       "      <th>0</th>\n",
       "      <th>1</th>\n",
       "      <th>2</th>\n",
       "      <th>3</th>\n",
       "    </tr>\n",
       "  </thead>\n",
       "  <tbody>\n",
       "    <tr>\n",
       "      <th>1</th>\n",
       "      <td>0.0</td>\n",
       "      <td>0.0</td>\n",
       "      <td>0.000000</td>\n",
       "      <td>0.000000</td>\n",
       "    </tr>\n",
       "    <tr>\n",
       "      <th>2</th>\n",
       "      <td>0.0</td>\n",
       "      <td>0.0</td>\n",
       "      <td>2.897916</td>\n",
       "      <td>2.897916</td>\n",
       "    </tr>\n",
       "  </tbody>\n",
       "</table>\n",
       "</div>"
      ],
      "text/plain": [
       "     0    1         2         3\n",
       "1  0.0  0.0  0.000000  0.000000\n",
       "2  0.0  0.0  2.897916  2.897916"
      ]
     },
     "execution_count": 61,
     "metadata": {},
     "output_type": "execute_result"
    }
   ],
   "source": [
    "df_x"
   ]
  },
  {
   "cell_type": "code",
   "execution_count": null,
   "metadata": {},
   "outputs": [],
   "source": []
  },
  {
   "cell_type": "code",
   "execution_count": null,
   "metadata": {},
   "outputs": [],
   "source": []
  },
  {
   "cell_type": "code",
   "execution_count": null,
   "metadata": {},
   "outputs": [],
   "source": []
  },
  {
   "cell_type": "code",
   "execution_count": null,
   "metadata": {},
   "outputs": [],
   "source": []
  },
  {
   "cell_type": "code",
   "execution_count": null,
   "metadata": {},
   "outputs": [],
   "source": []
  },
  {
   "cell_type": "code",
   "execution_count": null,
   "metadata": {},
   "outputs": [],
   "source": []
  },
  {
   "cell_type": "code",
   "execution_count": null,
   "metadata": {},
   "outputs": [],
   "source": []
  },
  {
   "cell_type": "code",
   "execution_count": null,
   "metadata": {},
   "outputs": [],
   "source": []
  },
  {
   "cell_type": "code",
   "execution_count": null,
   "metadata": {},
   "outputs": [],
   "source": []
  },
  {
   "cell_type": "code",
   "execution_count": null,
   "metadata": {},
   "outputs": [],
   "source": []
  },
  {
   "cell_type": "code",
   "execution_count": null,
   "metadata": {},
   "outputs": [],
   "source": []
  },
  {
   "cell_type": "code",
   "execution_count": null,
   "metadata": {},
   "outputs": [],
   "source": []
  },
  {
   "cell_type": "code",
   "execution_count": null,
   "metadata": {},
   "outputs": [],
   "source": []
  },
  {
   "cell_type": "code",
   "execution_count": null,
   "metadata": {},
   "outputs": [],
   "source": []
  },
  {
   "cell_type": "code",
   "execution_count": null,
   "metadata": {},
   "outputs": [],
   "source": []
  },
  {
   "cell_type": "code",
   "execution_count": null,
   "metadata": {},
   "outputs": [],
   "source": []
  },
  {
   "cell_type": "code",
   "execution_count": null,
   "metadata": {},
   "outputs": [],
   "source": []
  },
  {
   "cell_type": "code",
   "execution_count": null,
   "metadata": {},
   "outputs": [],
   "source": []
  },
  {
   "cell_type": "code",
   "execution_count": null,
   "metadata": {},
   "outputs": [],
   "source": []
  },
  {
   "cell_type": "code",
   "execution_count": null,
   "metadata": {},
   "outputs": [],
   "source": []
  },
  {
   "cell_type": "code",
   "execution_count": null,
   "metadata": {},
   "outputs": [],
   "source": []
  },
  {
   "cell_type": "code",
   "execution_count": null,
   "metadata": {},
   "outputs": [],
   "source": []
  },
  {
   "cell_type": "code",
   "execution_count": null,
   "metadata": {},
   "outputs": [],
   "source": []
  },
  {
   "cell_type": "code",
   "execution_count": null,
   "metadata": {},
   "outputs": [],
   "source": []
  },
  {
   "cell_type": "code",
   "execution_count": null,
   "metadata": {},
   "outputs": [],
   "source": []
  },
  {
   "cell_type": "code",
   "execution_count": null,
   "metadata": {},
   "outputs": [],
   "source": []
  },
  {
   "cell_type": "code",
   "execution_count": 41,
   "metadata": {
    "scrolled": false
   },
   "outputs": [
    {
     "name": "stdout",
     "output_type": "stream",
     "text": [
      "\n",
      "********** Sequence 1 **********************\n",
      "R(t): 0.1,   P(x,R): 25.9957,    fun_eval: 247\n",
      "x(t):  (2.6297, 2.4746)\n",
      "\n",
      "********** Sequence 2 **********************\n",
      "R(t): 1.0,   P(x,R): 68.8593,    fun_eval: 396\n",
      "x(t):  (0.0, 3.0766)\n",
      "\n",
      "********** Sequence 3 **********************\n",
      "R(t): 10.0,   P(x,R): 67.5979,    fun_eval: 462\n",
      "x(t):  (0.0, 2.8979)\n",
      "\n",
      "********** Sequence 4 **********************\n",
      "R(t): 100.0,   P(x,R): 67.5979,    fun_eval: 528\n",
      "x(t):  (0.0, 2.8979)\n"
     ]
    }
   ],
   "source": [
    "df_s = pd.DataFrame(np.identity(N), columns=range(1,N+1), index=range(1, N+1))\n",
    "df_record = pd.DataFrame(columns=['Sequence(t)', 'R(t)', 'x(t)', 'P(x(t), R(t))'])\n",
    "\n",
    "# Counting Number of function Evaluation:        ## To be moved to the Main Function\n",
    "f_count = 0\n",
    "\n",
    "##### STEP 1 ##### \n",
    "R = 0.1\n",
    "epsilon = 1e-3\n",
    "c = 10\n",
    "k = 1\n",
    "row_counter = 0\n",
    "####### STEP 2 (penalty function defined in the objective_function) \n",
    "\n",
    "\n",
    "while True:\n",
    "    ##### STEP 3 #####\n",
    "    df_x2 = conjugate_direction(df_x, R, N)\n",
    "    df_temp = df_x2[[df_x2.columns.max()]].rename(columns={df_x2.columns.max():0})\n",
    "    \n",
    "    \n",
    "    \n",
    "    #### Recording Data #####\n",
    "    Pk = objectiveFunction(df_temp[0], df_s[1], 0, N, R)\n",
    "    f_count -= 1\n",
    "    for i in range(len(df_x2.columns)):\n",
    "        df_record.loc[row_counter, 'Sequence(t)'] = k\n",
    "        df_record.loc[row_counter, 'R(t)'] = R\n",
    "        string = '('\n",
    "        for j in range(1, len(df_x2.index)+1):\n",
    "            string += str(round(df_x2[i][j],4))\n",
    "            if j!=len(df_x2.index):\n",
    "                string += ', '\n",
    "            else:\n",
    "                string += ')'\n",
    "        df_record.loc[row_counter, 'x(t)'] = string\n",
    "        Pk_2 = objectiveFunction(df_x2[i], df_s[1], 0, N, R)\n",
    "        f_count -= 1\n",
    "        df_record.loc[row_counter, 'P(x(t), R(t))'] = Pk_2\n",
    "        row_counter += 1\n",
    "    print(\"\\n********** Sequence %d **********************\" %k)\n",
    "    print(\"R(t): %.1f,   P(x,R): %.4f,    fun_eval: %d\" %(R, Pk, f_count))\n",
    "    string = '('\n",
    "    for j in range(1, len(df_x2.index)+1):\n",
    "        string += str(round(df_x2[i][j],4))\n",
    "        if j!=len(df_x2.index):\n",
    "            string += ', '\n",
    "        else:\n",
    "            string += ')'\n",
    "    print(\"x(t): \", string)\n",
    "    \n",
    "    \n",
    "    \n",
    "    \n",
    "    ##### STEP 4 #####\n",
    "    # Compare P(k) vs P(k-1)\n",
    "    if(k!=1 and abs(Pk - Pk_prev)<epsilon):\n",
    "        break\n",
    "    if(k>7):\n",
    "        break\n",
    "    \n",
    "    ##### STEP 5 #####\n",
    "    R = c*R\n",
    "    df_x = df_temp\n",
    "    Pk_prev = Pk\n",
    "    k = k+1"
   ]
  },
  {
   "cell_type": "code",
   "execution_count": 42,
   "metadata": {},
   "outputs": [
    {
     "data": {
      "text/html": [
       "<div>\n",
       "<style scoped>\n",
       "    .dataframe tbody tr th:only-of-type {\n",
       "        vertical-align: middle;\n",
       "    }\n",
       "\n",
       "    .dataframe tbody tr th {\n",
       "        vertical-align: top;\n",
       "    }\n",
       "\n",
       "    .dataframe thead th {\n",
       "        text-align: right;\n",
       "    }\n",
       "</style>\n",
       "<table border=\"1\" class=\"dataframe\">\n",
       "  <thead>\n",
       "    <tr style=\"text-align: right;\">\n",
       "      <th></th>\n",
       "      <th>Sequence(t)</th>\n",
       "      <th>R(t)</th>\n",
       "      <th>x(t)</th>\n",
       "      <th>P(x(t), R(t))</th>\n",
       "    </tr>\n",
       "  </thead>\n",
       "  <tbody>\n",
       "    <tr>\n",
       "      <th>0</th>\n",
       "      <td>1</td>\n",
       "      <td>0.1</td>\n",
       "      <td>(0.0, 0.0)</td>\n",
       "      <td>170.1</td>\n",
       "    </tr>\n",
       "    <tr>\n",
       "      <th>1</th>\n",
       "      <td>1</td>\n",
       "      <td>0.1</td>\n",
       "      <td>(3.2126, 0.0)</td>\n",
       "      <td>66.8134</td>\n",
       "    </tr>\n",
       "    <tr>\n",
       "      <th>2</th>\n",
       "      <td>1</td>\n",
       "      <td>0.1</td>\n",
       "      <td>(3.2126, 2.2797)</td>\n",
       "      <td>35.5525</td>\n",
       "    </tr>\n",
       "    <tr>\n",
       "      <th>3</th>\n",
       "      <td>1</td>\n",
       "      <td>0.1</td>\n",
       "      <td>(3.1725, 2.4539)</td>\n",
       "      <td>34.8052</td>\n",
       "    </tr>\n",
       "    <tr>\n",
       "      <th>4</th>\n",
       "      <td>1</td>\n",
       "      <td>0.1</td>\n",
       "      <td>(2.6345, 2.4539)</td>\n",
       "      <td>26.0069</td>\n",
       "    </tr>\n",
       "    <tr>\n",
       "      <th>5</th>\n",
       "      <td>1</td>\n",
       "      <td>0.1</td>\n",
       "      <td>(2.6297, 2.4746)</td>\n",
       "      <td>25.9957</td>\n",
       "    </tr>\n",
       "    <tr>\n",
       "      <th>6</th>\n",
       "      <td>2</td>\n",
       "      <td>1</td>\n",
       "      <td>(2.6297, 2.4746)</td>\n",
       "      <td>208.962</td>\n",
       "    </tr>\n",
       "    <tr>\n",
       "      <th>7</th>\n",
       "      <td>2</td>\n",
       "      <td>1</td>\n",
       "      <td>(0.6915, 2.4746)</td>\n",
       "      <td>66.5174</td>\n",
       "    </tr>\n",
       "    <tr>\n",
       "      <th>8</th>\n",
       "      <td>2</td>\n",
       "      <td>1</td>\n",
       "      <td>(0.6915, 2.7756)</td>\n",
       "      <td>61.9522</td>\n",
       "    </tr>\n",
       "    <tr>\n",
       "      <th>9</th>\n",
       "      <td>2</td>\n",
       "      <td>1</td>\n",
       "      <td>(0.0, 3.0766)</td>\n",
       "      <td>68.8593</td>\n",
       "    </tr>\n",
       "    <tr>\n",
       "      <th>10</th>\n",
       "      <td>2</td>\n",
       "      <td>1</td>\n",
       "      <td>(0.0, 3.0766)</td>\n",
       "      <td>68.8593</td>\n",
       "    </tr>\n",
       "    <tr>\n",
       "      <th>11</th>\n",
       "      <td>2</td>\n",
       "      <td>1</td>\n",
       "      <td>(0.0, 3.0766)</td>\n",
       "      <td>68.8593</td>\n",
       "    </tr>\n",
       "    <tr>\n",
       "      <th>12</th>\n",
       "      <td>3</td>\n",
       "      <td>10</td>\n",
       "      <td>(0.0, 3.0766)</td>\n",
       "      <td>68.8593</td>\n",
       "    </tr>\n",
       "    <tr>\n",
       "      <th>13</th>\n",
       "      <td>3</td>\n",
       "      <td>10</td>\n",
       "      <td>(0.0, 3.0766)</td>\n",
       "      <td>68.8593</td>\n",
       "    </tr>\n",
       "    <tr>\n",
       "      <th>14</th>\n",
       "      <td>3</td>\n",
       "      <td>10</td>\n",
       "      <td>(0.0, 2.8979)</td>\n",
       "      <td>67.5979</td>\n",
       "    </tr>\n",
       "    <tr>\n",
       "      <th>15</th>\n",
       "      <td>3</td>\n",
       "      <td>10</td>\n",
       "      <td>(0.0, 2.8979)</td>\n",
       "      <td>67.5979</td>\n",
       "    </tr>\n",
       "    <tr>\n",
       "      <th>16</th>\n",
       "      <td>4</td>\n",
       "      <td>100</td>\n",
       "      <td>(0.0, 2.8979)</td>\n",
       "      <td>67.5979</td>\n",
       "    </tr>\n",
       "    <tr>\n",
       "      <th>17</th>\n",
       "      <td>4</td>\n",
       "      <td>100</td>\n",
       "      <td>(0.0, 2.8979)</td>\n",
       "      <td>67.5979</td>\n",
       "    </tr>\n",
       "    <tr>\n",
       "      <th>18</th>\n",
       "      <td>4</td>\n",
       "      <td>100</td>\n",
       "      <td>(0.0, 2.8979)</td>\n",
       "      <td>67.5979</td>\n",
       "    </tr>\n",
       "    <tr>\n",
       "      <th>19</th>\n",
       "      <td>4</td>\n",
       "      <td>100</td>\n",
       "      <td>(0.0, 2.8979)</td>\n",
       "      <td>67.5979</td>\n",
       "    </tr>\n",
       "  </tbody>\n",
       "</table>\n",
       "</div>"
      ],
      "text/plain": [
       "   Sequence(t) R(t)              x(t) P(x(t), R(t))\n",
       "0            1  0.1        (0.0, 0.0)         170.1\n",
       "1            1  0.1     (3.2126, 0.0)       66.8134\n",
       "2            1  0.1  (3.2126, 2.2797)       35.5525\n",
       "3            1  0.1  (3.1725, 2.4539)       34.8052\n",
       "4            1  0.1  (2.6345, 2.4539)       26.0069\n",
       "5            1  0.1  (2.6297, 2.4746)       25.9957\n",
       "6            2    1  (2.6297, 2.4746)       208.962\n",
       "7            2    1  (0.6915, 2.4746)       66.5174\n",
       "8            2    1  (0.6915, 2.7756)       61.9522\n",
       "9            2    1     (0.0, 3.0766)       68.8593\n",
       "10           2    1     (0.0, 3.0766)       68.8593\n",
       "11           2    1     (0.0, 3.0766)       68.8593\n",
       "12           3   10     (0.0, 3.0766)       68.8593\n",
       "13           3   10     (0.0, 3.0766)       68.8593\n",
       "14           3   10     (0.0, 2.8979)       67.5979\n",
       "15           3   10     (0.0, 2.8979)       67.5979\n",
       "16           4  100     (0.0, 2.8979)       67.5979\n",
       "17           4  100     (0.0, 2.8979)       67.5979\n",
       "18           4  100     (0.0, 2.8979)       67.5979\n",
       "19           4  100     (0.0, 2.8979)       67.5979"
      ]
     },
     "execution_count": 42,
     "metadata": {},
     "output_type": "execute_result"
    }
   ],
   "source": [
    "# df_record.to_csv('Record.csv', index=False)\n",
    "\n",
    "df_record"
   ]
  },
  {
   "cell_type": "code",
   "execution_count": 76,
   "metadata": {},
   "outputs": [
    {
     "data": {
      "text/plain": [
       "68.97410000000002"
      ]
     },
     "execution_count": 76,
     "metadata": {},
     "output_type": "execute_result"
    }
   ],
   "source": [
    "R = 1\n",
    "\n",
    "objectiveFunction(pd.Series([0, 2.7]).set_axis([1,2]), df_s[1], 0, N, R)"
   ]
  },
  {
   "cell_type": "code",
   "execution_count": 63,
   "metadata": {},
   "outputs": [
    {
     "data": {
      "text/plain": [
       "171.0"
      ]
     },
     "execution_count": 63,
     "metadata": {},
     "output_type": "execute_result"
    }
   ],
   "source": [
    "R = 1\n",
    "\n",
    "objectiveFunction(pd.Series([0,0]).set_axis([1,2]), df_s[1], 0, N, R)"
   ]
  },
  {
   "cell_type": "code",
   "execution_count": 32,
   "metadata": {
    "scrolled": false
   },
   "outputs": [
    {
     "data": {
      "text/plain": [
       "<matplotlib.contour.QuadContourSet at 0x293bf9cb7c8>"
      ]
     },
     "execution_count": 32,
     "metadata": {},
     "output_type": "execute_result"
    },
    {
     "data": {
      "image/png": "[encoded data removed]",
      "text/plain": [
       "<Figure size 576x576 with 1 Axes>"
      ]
     },
     "metadata": {
      "needs_background": "light"
     },
     "output_type": "display_data"
    }
   ],
   "source": [
    "R = 1\n",
    "\n",
    "DOMAIN = np.zeros((100,100))\n",
    "\n",
    "X = np.linspace(bound[0][0], bound[0][1], 100)\n",
    "Y = np.linspace(bound[1][0], bound[1][1], 100)\n",
    "\n",
    "for i in range(100):\n",
    "    for j in range(100):\n",
    "        temp = pd.Series([X[i], Y[j]]).set_axis([1,2])\n",
    "        DOMAIN[i][j] = objectiveFunction(temp, df_s[1], 0, 2, R)\n",
    "        \n",
    "fig, ax = plt.subplots(figsize=(8,8))        \n",
    "# fig, ax = plt.subplots(figsize=(15,8))\n",
    "cnt = ax.contour(X, Y, DOMAIN, colors = \"k\", linewidths = 0.5)\n",
    "ax.clabel(cnt, cnt.levels, inline = True, fontsize = 10)\n",
    "ax.contourf(X, Y, DOMAIN)\n",
    "\n",
    "# temp = df_record.loc[df_record['R(t)']==R,'x(t)']\n",
    "# x_value = temp.iloc[-1]\n",
    "# x_value = x_value.replace('(','').replace(')','').split(', ')\n",
    "# plt.plot(float(x_value[0]), float(x_value[1]), marker=\"o\", markersize=20, markeredgecolor=\"red\", markerfacecolor=\"green\")"
   ]
  },
  {
   "cell_type": "code",
   "execution_count": null,
   "metadata": {},
   "outputs": [],
   "source": []
  },
  {
   "cell_type": "code",
   "execution_count": null,
   "metadata": {},
   "outputs": [],
   "source": []
  }
 ],
 "metadata": {
  "kernelspec": {
   "display_name": "Python 3",
   "language": "python",
   "name": "python3"
  },
  "language_info": {
   "codemirror_mode": {
    "name": "ipython",
    "version": 3
   },
   "file_extension": ".py",
   "mimetype": "text/x-python",
   "name": "python",
   "nbconvert_exporter": "python",
   "pygments_lexer": "ipython3",
   "version": "3.7.6"
  }
 },
 "nbformat": 4,
 "nbformat_minor": 4
}
